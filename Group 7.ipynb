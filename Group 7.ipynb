{
 "metadata": {
  "name": "Group 7"
 },
 "nbformat": 3,
 "nbformat_minor": 0,
 "worksheets": [
  {
   "cells": [
    {
     "cell_type": "heading",
     "level": 1,
     "metadata": {},
     "source": [
      "Data Science: Group 7 \n"
     ]
    },
    {
     "cell_type": "raw",
     "metadata": {},
     "source": [
      "Carl Shan, He Ma, Alyssa Parker, Vincent Canlas"
     ]
    },
    {
     "cell_type": "heading",
     "level": 2,
     "metadata": {},
     "source": [
      "Step 0: Setup"
     ]
    },
    {
     "cell_type": "markdown",
     "metadata": {},
     "source": [
      "Import basic Python libraries for use in your program: [os.path](http://docs.python.org/2/library/os.path.html) and [ConfigParser](http://docs.python.org/2/library/configparser.html). We also imported re and csv for regular expression parsing and creating csv files respectively."
     ]
    },
    {
     "cell_type": "code",
     "collapsed": false,
     "input": [
      "import os.path\n",
      "import ConfigParser\n",
      "import re\n",
      "import csv"
     ],
     "language": "python",
     "metadata": {},
     "outputs": [],
     "prompt_number": 1
    },
    {
     "cell_type": "markdown",
     "metadata": {},
     "source": [
      "An example of reading data from a Google Spreadsheet using the gspread library: http://stackoverflow.com/a/18296318/462302\n",
      "\n",
      "First you'll need to install the gspread library on your virtual machine using: `sudo pip install gspread`"
     ]
    },
    {
     "cell_type": "code",
     "collapsed": false,
     "input": [
      "import gspread"
     ],
     "language": "python",
     "metadata": {},
     "outputs": [],
     "prompt_number": 2
    },
    {
     "cell_type": "markdown",
     "metadata": {},
     "source": [
      "Define `take(n, iterable)` which is a convenience function to limit the amount of output that you print. Useful when you have lots of data that will clutter up your screen!"
     ]
    },
    {
     "cell_type": "code",
     "collapsed": false,
     "input": [
      "from itertools import islice\n",
      "def take(n, iterable):\n",
      "    \"Return first n items of the iterable as a list\"\n",
      "    return list(islice(iterable, n))"
     ],
     "language": "python",
     "metadata": {},
     "outputs": [],
     "prompt_number": 3
    },
    {
     "cell_type": "markdown",
     "metadata": {},
     "source": [
      "Read the username and password from the `[google]` section of the `stat157.cfg` config file from your virtual machine home directory."
     ]
    },
    {
     "cell_type": "code",
     "collapsed": false,
     "input": [
      "home = os.path.expanduser(\"~\")\n",
      "configfile = os.path.join(home, 'stat157.cfg')\n",
      "config = ConfigParser.SafeConfigParser()\n",
      "config.read(configfile)\n",
      "username = config.get('google', 'username')\n",
      "password = config.get('google', 'password')\n",
      "print username"
     ],
     "language": "python",
     "metadata": {},
     "outputs": [
      {
       "output_type": "stream",
       "stream": "stdout",
       "text": [
        "sunnymh@berkeley.edu\n"
       ]
      }
     ],
     "prompt_number": 4
    },
    {
     "cell_type": "markdown",
     "metadata": {},
     "source": [
      "Read the docid of the Google Spreadsheet from the config file."
     ]
    },
    {
     "cell_type": "code",
     "collapsed": false,
     "input": [
      "docid = config.get('questionnaire', 'docid')\n",
      "client = gspread.login(username, password)\n",
      "spreadsheet = client.open_by_key(docid)\n",
      "worksheet = spreadsheet.get_worksheet(0)\n",
      "print docid"
     ],
     "language": "python",
     "metadata": {},
     "outputs": [
      {
       "output_type": "stream",
       "stream": "stdout",
       "text": [
        "0Aj1QXjQixf-SdENDS1FzR1FGNE1kLUk0WGR1SW5peVE\n"
       ]
      }
     ],
     "prompt_number": 5
    },
    {
     "cell_type": "markdown",
     "metadata": {},
     "source": [
      "Add field names to this list to include the column from the Google Spreadsheet in the filtered data output. You should choose one other column in addition to the learning style column. Refer to README.md from the homework assignment."
     ]
    },
    {
     "cell_type": "code",
     "collapsed": false,
     "input": [
      "fieldnames = ['Timestamp','What is your learning style?', 'Which department and course numbers (e.g. Stat 157)?']\n",
      "print fieldnames"
     ],
     "language": "python",
     "metadata": {},
     "outputs": [
      {
       "output_type": "stream",
       "stream": "stdout",
       "text": [
        "['Timestamp', 'What is your learning style?', 'Which department and course numbers (e.g. Stat 157)?']\n"
       ]
      }
     ],
     "prompt_number": 6
    },
    {
     "cell_type": "markdown",
     "metadata": {},
     "source": [
      "Read in ALL rows of data from the Google Spreadsheet, but filter out columns that are not listed in `fieldnames`."
     ]
    },
    {
     "cell_type": "code",
     "collapsed": false,
     "input": [
      "filtered_data = []\n",
      "for row in worksheet.get_all_records():\n",
      "    filtered_data.append({k:v for k,v in row.iteritems() if k in fieldnames})\n",
      "print \"Number of rows: {}\".format(len(filtered_data))"
     ],
     "language": "python",
     "metadata": {},
     "outputs": [
      {
       "output_type": "stream",
       "stream": "stdout",
       "text": [
        "Number of rows: 48\n"
       ]
      }
     ],
     "prompt_number": 7
    },
    {
     "cell_type": "heading",
     "level": 2,
     "metadata": {},
     "source": [
      "Step 1 - Curation"
     ]
    },
    {
     "cell_type": "heading",
     "level": 3,
     "metadata": {},
     "source": [
      "Part A - Cleaning up Data"
     ]
    },
    {
     "cell_type": "code",
     "collapsed": false,
     "input": [
      "def clean_classes(string):\n",
      "    'This function cleans the list of classes, pruning it to just include the Stat 130s'\n",
      "    s = []\n",
      "    for elem in ('133', '134', '135'):\n",
      "        if elem in string:\n",
      "            s.append('STAT' + elem)\n",
      "    return(s)\n",
      "\n",
      "## Removing unicode from corpus\n",
      "filtered_data[17][fieldnames[2]] = re.sub(u'\\u2022', '', filtered_data[17][fieldnames[1]])\n",
      "filtered_data[24][fieldnames[2]] = re.sub(u'\\u2013', '', filtered_data[24][fieldnames[1]])\n",
      "\n",
      "## Creates Cleaned Dictionary to be parsed into .csv\n",
      "cleaned_data = []\n",
      "for elem in filtered_data:\n",
      "    if 'Kinesthetic' in elem[fieldnames[1]]: # checks to see if the cell is non-empty and machine readable\n",
      "        scores = re.findall('\\d+', elem[fieldnames[1]])\n",
      "        row_dict = {'Timestamp' : elem['Timestamp'], 'Visual' : scores[0], 'Aural' : scores[1], 'Read_Write' : scores[2], 'Kinesthetic': scores[3], 'STAT133' : '0', 'STAT134' : '0', 'STAT135' : '0', 'CS' : '0'}\n",
      "        classes = clean_classes(elem[fieldnames[2]]) # only keeps Stat 133, Stat 134 and Stat 135\n",
      "        for course in ('STAT133', 'STAT134', 'STAT135'):\n",
      "\t\t\tif course in classes:\n",
      "\t\t\t\trow_dict[course] = 1\n",
      "        if re.match(r'[Cc][Ss] ?[0-9]+',elem[fieldnames[2]]): # if the person has taken as CS classes\n",
      "            row_dict['CS'] = 1\n",
      "        cleaned_data.append(row_dict)"
     ],
     "language": "python",
     "metadata": {},
     "outputs": [],
     "prompt_number": 8
    },
    {
     "cell_type": "heading",
     "level": 3,
     "metadata": {},
     "source": [
      "Part B - Creating .csv File"
     ]
    },
    {
     "cell_type": "code",
     "collapsed": false,
     "input": [
      "## Creates a .csv file called data.csv from cleaned data\n",
      "names = ['Timestamp', 'Aural', 'Kinesthetic', 'Read_Write', 'Visual', 'STAT133', 'STAT134', 'STAT135', 'CS']\n",
      "f = open('data.csv', 'wb')\n",
      "dict_writer = csv.DictWriter(f, names, restval='NA')\n",
      "dict_writer.writeheader()\n",
      "dict_writer.writerows(cleaned_data)"
     ],
     "language": "python",
     "metadata": {},
     "outputs": [],
     "prompt_number": 9
    },
    {
     "cell_type": "heading",
     "level": 2,
     "metadata": {},
     "source": [
      "Step 2 - Analysis"
     ]
    },
    {
     "cell_type": "code",
     "collapsed": false,
     "input": [
      "# code start here"
     ],
     "language": "python",
     "metadata": {},
     "outputs": [],
     "prompt_number": 10
    },
    {
     "cell_type": "heading",
     "level": 2,
     "metadata": {},
     "source": [
      "Step3 - Visualization"
     ]
    },
    {
     "cell_type": "raw",
     "metadata": {},
     "source": [
      "Everything is done with R, please refer to visulization.R for implementation."
     ]
    },
    {
     "cell_type": "heading",
     "level": 3,
     "metadata": {},
     "source": [
      "Part A: Learning Style"
     ]
    },
    {
     "cell_type": "heading",
     "level": 4,
     "metadata": {},
     "source": [
      "Distribution of the scores for Aural, Kinesthetic, Read_Write, Visual"
     ]
    },
    {
     "cell_type": "markdown",
     "metadata": {},
     "source": [
      "<img src=\"files/hist_style.png\">\n",
      "<img src=\"files/violin_style.png\">"
     ]
    },
    {
     "cell_type": "raw",
     "metadata": {},
     "source": [
      "Due to the limitation of the size of the data, we can't really say much about the data. \n",
      "Aural score spread out between 1 and 11, while the other three scores have a larger spread.\n",
      "Seems like the scores could fit with normal distribution."
     ]
    },
    {
     "cell_type": "heading",
     "level": 4,
     "metadata": {},
     "source": [
      "Normal distribution fitness"
     ]
    },
    {
     "cell_type": "markdown",
     "metadata": {},
     "source": [
      "<img src=\"files/normal_style.png\">"
     ]
    },
    {
     "cell_type": "raw",
     "metadata": {},
     "source": [
      "Since the data is ordinal, this plot can only be taken as a reference.\n",
      "Aural has big tail for both sides. \n",
      "The other three are approximately normal, but skew to the side."
     ]
    },
    {
     "cell_type": "heading",
     "level": 4,
     "metadata": {},
     "source": [
      "Pairsie correlation for learning style"
     ]
    },
    {
     "cell_type": "markdown",
     "metadata": {},
     "source": [
      "<img src=\"files/scatterplot_style.png\">"
     ]
    },
    {
     "cell_type": "raw",
     "metadata": {},
     "source": [
      "All seems to be evenly spread out."
     ]
    },
    {
     "cell_type": "markdown",
     "metadata": {},
     "source": [
      "<img src=\"files/heatmap_style.png\">"
     ]
    },
    {
     "cell_type": "raw",
     "metadata": {},
     "source": [
      "Again, since the data is ordinal, Pearson's correlation might not be a accurate prediction.\n",
      "Still, we can see that Read_Write is not correlatied with the other three categories.\n",
      "For Aural, Kinesthetic, and Visual, if the student score higher in one of them, he is likely to score higher in the other two."
     ]
    },
    {
     "cell_type": "heading",
     "level": 3,
     "metadata": {},
     "source": [
      "Part B: Classes taken"
     ]
    },
    {
     "cell_type": "heading",
     "level": 4,
     "metadata": {},
     "source": [
      "Distribution of people taking STAT and CS class"
     ]
    },
    {
     "cell_type": "markdown",
     "metadata": {},
     "source": [
      "<img src=\"files/barplot_class.png\">\n",
      "<img src=\"files/stat_cs_class.png\">"
     ]
    },
    {
     "cell_type": "raw",
     "metadata": {},
     "source": [
      "There might be some correlation between learning style and the different classes people take.\n",
      "But due to the limitation of the sample size, it is not likely we can get to a conclusion"
     ]
    }
   ],
   "metadata": {}
  }
 ]
}