{
 "metadata": {
  "name": "Group 7"
 },
 "nbformat": 3,
 "nbformat_minor": 0,
 "worksheets": [
  {
   "cells": [
    {
     "cell_type": "heading",
     "level": 1,
     "metadata": {},
     "source": [
      "Data Science: Group 7 \n"
     ]
    },
    {
     "cell_type": "raw",
     "metadata": {},
     "source": [
      "Carl Shan, He Ma, Alyssa Parker, Vincent Canlas"
     ]
    },
    {
     "cell_type": "heading",
     "level": 2,
     "metadata": {},
     "source": [
      "Step 0: Setup"
     ]
    },
    {
     "cell_type": "markdown",
     "metadata": {},
     "source": [
      "Import basic Python libraries for use in your program: [os.path](http://docs.python.org/2/library/os.path.html) and [ConfigParser](http://docs.python.org/2/library/configparser.html). We also imported re and csv for regular expression parsing and creating csv files respectively."
     ]
    },
    {
     "cell_type": "code",
     "collapsed": false,
     "input": [
      "import os.path\n",
      "import ConfigParser\n",
      "import re\n",
      "import csv"
     ],
     "language": "python",
     "metadata": {},
     "outputs": []
    },
    {
     "cell_type": "markdown",
     "metadata": {},
     "source": [
      "An example of reading data from a Google Spreadsheet using the gspread library: http://stackoverflow.com/a/18296318/462302\n",
      "\n",
      "First you'll need to install the gspread library on your virtual machine using: `sudo pip install gspread`"
     ]
    },
    {
     "cell_type": "code",
     "collapsed": false,
     "input": [
      "import gspread"
     ],
     "language": "python",
     "metadata": {},
     "outputs": []
    },
    {
     "cell_type": "markdown",
     "metadata": {},
     "source": [
      "Define `take(n, iterable)` which is a convenience function to limit the amount of output that you print. Useful when you have lots of data that will clutter up your screen!"
     ]
    },
    {
     "cell_type": "code",
     "collapsed": false,
     "input": [
      "from itertools import islice\n",
      "def take(n, iterable):\n",
      "    \"Return first n items of the iterable as a list\"\n",
      "    return list(islice(iterable, n))"
     ],
     "language": "python",
     "metadata": {},
     "outputs": []
    },
    {
     "cell_type": "markdown",
     "metadata": {},
     "source": [
      "Read the username and password from the `[google]` section of the `stat157.cfg` config file from your virtual machine home directory."
     ]
    },
    {
     "cell_type": "code",
     "collapsed": false,
     "input": [
      "home = os.path.expanduser(\"~\")\n",
      "configfile = os.path.join(home, 'stat157.cfg')\n",
      "config = ConfigParser.SafeConfigParser()\n",
      "config.read(configfile)\n",
      "username = config.get('google', 'username')\n",
      "password = config.get('google', 'password')\n",
      "print username"
     ],
     "language": "python",
     "metadata": {},
     "outputs": []
    },
    {
     "cell_type": "markdown",
     "metadata": {},
     "source": [
      "Read the docid of the Google Spreadsheet from the config file."
     ]
    },
    {
     "cell_type": "code",
     "collapsed": false,
     "input": [
      "docid = config.get('questionnaire', 'docid')\n",
      "client = gspread.login(username, password)\n",
      "spreadsheet = client.open_by_key(docid)\n",
      "worksheet = spreadsheet.get_worksheet(0)\n",
      "print docid"
     ],
     "language": "python",
     "metadata": {},
     "outputs": []
    },
    {
     "cell_type": "markdown",
     "metadata": {},
     "source": [
      "Add field names to this list to include the column from the Google Spreadsheet in the filtered data output. You should choose one other column in addition to the learning style column. Refer to README.md from the homework assignment."
     ]
    },
    {
     "cell_type": "code",
     "collapsed": false,
     "input": [
      "fieldnames = ['Timestamp','What is your learning style?', 'Which department and course numbers (e.g. Stat 157)?']\n",
      "print fieldnames"
     ],
     "language": "python",
     "metadata": {},
     "outputs": []
    },
    {
     "cell_type": "markdown",
     "metadata": {},
     "source": [
      "Read in ALL rows of data from the Google Spreadsheet, but filter out columns that are not listed in `fieldnames`."
     ]
    },
    {
     "cell_type": "code",
     "collapsed": false,
     "input": [
      "filtered_data = []\n",
      "for row in worksheet.get_all_records():\n",
      "    filtered_data.append({k:v for k,v in row.iteritems() if k in fieldnames})\n",
      "print \"Number of rows: {}\".format(len(filtered_data))"
     ],
     "language": "python",
     "metadata": {},
     "outputs": []
    },
    {
     "cell_type": "heading",
     "level": 2,
     "metadata": {},
     "source": [
      "Step 1 - Curation"
     ]
    },
    {
     "cell_type": "heading",
     "level": 3,
     "metadata": {},
     "source": [
      "Part A - Cleaning up Data"
     ]
    },
    {
     "cell_type": "code",
     "collapsed": false,
     "input": [
      "def clean_classes(string):\n",
      "    'This function cleans the list of classes, pruning it to just include the Stat 130s'\n",
      "\ts = []\n",
      "\tfor elem in ('133', '134', '135'):\n",
      "\t\tif elem in string:\n",
      "\t\t\ts.append('Stat ' + elem)\n",
      "\treturn(s)\n",
      "\n",
      "## Removing unicode from corpus\n",
      "filtered_data[17][fieldnames[2]] = re.sub(u'\\u2022', '', filtered_data[17][fieldnames[1]])\n",
      "filtered_data[24][fieldnames[2]] = re.sub(u'\\u2013', '', filtered_data[24][fieldnames[1]])\n",
      "\n",
      "## Creates Cleaned Dictionary to be parsed into .csv\n",
      "cleaned_data = []\n",
      "for elem in filtered_data:\n",
      "\tif 'Kinesthetic' in elem[fieldnames[1]]: # checks to see if the cell is non-empty and machine readable\n",
      "\t\tscores = re.findall('\\d+', elem[fieldnames[1]])\n",
      "\t\trow_dict = {'Timestamp' : elem['Timestamp'], 'Visual' : scores[0], 'Aural' : scores[1], 'Read/Write' : scores[2], 'Kinesthetic': scores[3], 'Stat 133' : '0', 'Stat 134' : '0', 'Stat 135' : '0'}\n",
      "\t\tclasses = clean_classes(elem[fieldnames[2]]) # only keeps Stat 133, Stat 134 and Stat 135\n",
      "\t\tfor elem in ('Stat 133', 'Stat 134', 'Stat 135'):\n",
      "\t\t\tif elem in classes:\n",
      "\t\t\t\trow_dict[elem] = 1\n",
      "\t\tcleaned_data.append(row_dict)"
     ],
     "language": "python",
     "metadata": {},
     "outputs": []
    },
    {
     "cell_type": "heading",
     "level": 3,
     "metadata": {},
     "source": [
      "Part B - Creating .csv File"
     ]
    },
    {
     "cell_type": "code",
     "collapsed": false,
     "input": [
      "## Creates a .csv file called data.csv from cleaned data\n",
      "names = ['Timestamp', 'Aural', 'Kinesthetic', 'Read/Write', 'Visual', 'Stat 133', 'Stat 134', 'Stat 135']\n",
      "f = open('data.csv', 'wb')\n",
      "dict_writer = csv.DictWriter(f, names, restval='NA')\n",
      "dict_writer.writeheader()\n",
      "dict_writer.writerows(cleaned_data)"
     ],
     "language": "python",
     "metadata": {},
     "outputs": []
    },
    {
     "cell_type": "heading",
     "level": 2,
     "metadata": {},
     "source": [
      "Step 2 - Analysis"
     ]
    },
    {
     "cell_type": "code",
     "collapsed": false,
     "input": [
      "### Analysis here"
     ],
     "language": "python",
     "metadata": {},
     "outputs": []
    },
    {
     "cell_type": "heading",
     "level": 2,
     "metadata": {},
     "source": [
      "Step 3 - Visualizations"
     ]
    },
    {
     "cell_type": "code",
     "collapsed": false,
     "input": [
      "### Visualizations here"
     ],
     "language": "python",
     "metadata": {},
     "outputs": []
    }
   ],
   "metadata": {}
  }
 ]
}